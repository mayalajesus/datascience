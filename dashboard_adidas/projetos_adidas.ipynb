{
 "cells": [
  {
   "cell_type": "code",
   "execution_count": 2,
   "metadata": {},
   "outputs": [],
   "source": [
    "import pandas as pd\n",
    "import numpy as np"
   ]
  },
  {
   "cell_type": "code",
   "execution_count": 3,
   "metadata": {},
   "outputs": [
    {
     "name": "stdout",
     "output_type": "stream",
     "text": [
      "<class 'pandas.core.frame.DataFrame'>\n",
      "RangeIndex: 9648 entries, 0 to 9647\n",
      "Data columns (total 13 columns):\n",
      " #   Column            Non-Null Count  Dtype         \n",
      "---  ------            --------------  -----         \n",
      " 0   Retailer          9648 non-null   object        \n",
      " 1   Retailer ID       9648 non-null   int64         \n",
      " 2   Invoice Date      9648 non-null   datetime64[ns]\n",
      " 3   Region            9648 non-null   object        \n",
      " 4   State             9648 non-null   object        \n",
      " 5   City              9648 non-null   object        \n",
      " 6   Product           9648 non-null   object        \n",
      " 7   Price per Unit    9648 non-null   float64       \n",
      " 8   Units Sold        9648 non-null   int64         \n",
      " 9   Total Sales       9648 non-null   float64       \n",
      " 10  Operating Profit  9648 non-null   float64       \n",
      " 11  Operating Margin  9648 non-null   float64       \n",
      " 12  Sales Method      9648 non-null   object        \n",
      "dtypes: datetime64[ns](1), float64(4), int64(2), object(6)\n",
      "memory usage: 980.0+ KB\n"
     ]
    }
   ],
   "source": [
    "dataframe = pd.read_excel('sales_adidas.xlsx')\n",
    "dataframe.info()"
   ]
  },
  {
   "cell_type": "code",
   "execution_count": 5,
   "metadata": {},
   "outputs": [
    {
     "data": {
      "text/plain": [
       "array(['New York', 'Texas', 'California', 'Illinois', 'Pennsylvania',\n",
       "       'Nevada', 'Colorado', 'Washington', 'Florida', 'Minnesota',\n",
       "       'Montana', 'Tennessee', 'Nebraska', 'Alabama', 'Maine', 'Alaska',\n",
       "       'Hawaii', 'Wyoming', 'Virginia', 'Michigan', 'Missouri', 'Utah',\n",
       "       'Oregon', 'Louisiana', 'Idaho', 'Arizona', 'New Mexico', 'Georgia',\n",
       "       'South Carolina', 'North Carolina', 'Ohio', 'Kentucky',\n",
       "       'Mississippi', 'Arkansas', 'Oklahoma', 'Kansas', 'South Dakota',\n",
       "       'North Dakota', 'Iowa', 'Wisconsin', 'Indiana', 'West Virginia',\n",
       "       'Maryland', 'Delaware', 'New Jersey', 'Connecticut',\n",
       "       'Rhode Island', 'Massachusetts', 'Vermont', 'New Hampshire'],\n",
       "      dtype=object)"
      ]
     },
     "execution_count": 5,
     "metadata": {},
     "output_type": "execute_result"
    }
   ],
   "source": [
    "city = dataframe['State'].unique()\n",
    "city"
   ]
  }
 ],
 "metadata": {
  "kernelspec": {
   "display_name": "Python 3",
   "language": "python",
   "name": "python3"
  },
  "language_info": {
   "codemirror_mode": {
    "name": "ipython",
    "version": 3
   },
   "file_extension": ".py",
   "mimetype": "text/x-python",
   "name": "python",
   "nbconvert_exporter": "python",
   "pygments_lexer": "ipython3",
   "version": "3.11.2"
  },
  "orig_nbformat": 4
 },
 "nbformat": 4,
 "nbformat_minor": 2
}
